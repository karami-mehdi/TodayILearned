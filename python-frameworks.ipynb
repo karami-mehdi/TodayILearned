{
 "cells": [
  {
   "cell_type": "markdown",
   "id": "9c7bb765",
   "metadata": {},
   "source": [
    "# Useful Python Frameworks List\n",
    "\n",
    "### 1. **Pandas**\n",
    "   - **Overview**: Pandas is a powerful data manipulation and analysis library that provides data structures like `DataFrames` for working with structured data such as CSV files or databases.\n",
    "\n",
    "   - **Key Features**:\n",
    "     - **Series**: A one-dimensional labeled array capable of holding any data type.\n",
    "     - **DataFrame**: A two-dimensional, size-mutable, and heterogeneous tabular data structure with labeled axes (rows and columns).\n",
    "     - **Data Cleaning**: Offers tools for handling missing data, filtering, and reshaping datasets.\n",
    "\n",
    "   - **Applications**:\n",
    "     - Pandas can be used for organizing and analyzing experimental data such as neuronal spike counts, behavioral data, or brain imaging measurements.\n",
    "     - It is also helpful for preprocessing datasets for machine learning models or simulations.\n",
    "\n",
    "**Sample Code:**"
   ]
  },
  {
   "cell_type": "code",
   "execution_count": 14,
   "id": "bd709ce0-e549-4aa4-8969-caeab2a0b5a6",
   "metadata": {},
   "outputs": [
    {
     "name": "stdout",
     "output_type": "stream",
     "text": [
      "   Neuron_ID  Firing_Rate  Spike_Count\n",
      "0          1         12.5           10\n",
      "1          2         15.0           15\n",
      "2          3          7.8            5\n",
      "3          4         22.0           25\n",
      "       Neuron_ID  Firing_Rate  Spike_Count\n",
      "count   4.000000     4.000000     4.000000\n",
      "mean    2.500000    14.325000    13.750000\n",
      "std     1.290994     5.923611     8.539126\n",
      "min     1.000000     7.800000     5.000000\n",
      "25%     1.750000    11.325000     8.750000\n",
      "50%     2.500000    13.750000    12.500000\n",
      "75%     3.250000    16.750000    17.500000\n",
      "max     4.000000    22.000000    25.000000\n",
      "0    12.5\n",
      "1    15.0\n",
      "2     7.8\n",
      "3    22.0\n",
      "Name: Firing_Rate, dtype: float64\n",
      "   Neuron_ID  Firing_Rate  Spike_Count\n",
      "1          2         15.0           15\n",
      "3          4         22.0           25\n"
     ]
    }
   ],
   "source": [
    "import pandas as pd\n",
    "\n",
    "# Creating a DataFrame\n",
    "data = {'Neuron_ID': [1, 2, 3, 4],\n",
    "        'Firing_Rate': [12.5, 15.0, 7.8, 22.0],\n",
    "        'Spike_Count': [10, 15, 5, 25]}\n",
    "\n",
    "df = pd.DataFrame(data)\n",
    "\n",
    "# Display the DataFrame\n",
    "print(df)\n",
    "\n",
    "# Descriptive Statistics\n",
    "print(df.describe())\n",
    "\n",
    "# Selecting a column\n",
    "firing_rate = df['Firing_Rate']\n",
    "print(firing_rate)\n",
    "\n",
    "# Filtering rows\n",
    "high_spiking_neurons = df[df['Spike_Count'] > 10]\n",
    "print(high_spiking_neurons)"
   ]
  },
  {
   "cell_type": "markdown",
   "id": "457bb882",
   "metadata": {},
   "source": [
    "---\n",
    "\n",
    "### 2. **NumPy**\n",
    "   - **Overview**: NumPy provides support for large, multi-dimensional arrays and matrices, along with a collection of mathematical functions to operate on these arrays.\n",
    "\n",
    "   - **Key Features**:\n",
    "     - **ndarray**: The primary array data structure in NumPy.\n",
    "     - **Multi-Dimensional Arrays**: Efficient handling of large datasets (e.g., 3D or 4D arrays representing brain imaging data).\n",
    "     - **Linear Algebra**: Provides tools for performing linear algebraic computations, including dot products, matrix decompositions, and more.\n",
    "     - **Fast Computation**: NumPy is optimized for performance, making it suitable for heavy numerical computations.\n",
    "\n",
    "   - **Applications**:\n",
    "     - NumPy can be used to simulate neural networks, analyze neural recordings, and perform computations on large-scale neural data like EEG/MEG, fMRI, or calcium imaging data.\n",
    "     - NumPy can be used to perform operations on large neural datasets, such as modeling the dynamics of neurons, spike train analysis, or connectivity matrices.\n",
    "     - It is often used for numerical simulations of neuron models (e.g., Hodgkin-Huxley or integrate-and-fire models).\n",
    "\n",
    "**Sample Code:**"
   ]
  },
  {
   "cell_type": "code",
   "execution_count": 13,
   "id": "6980e552-1a6d-44d8-8456-398f4b20f2c1",
   "metadata": {},
   "outputs": [
    {
     "name": "stdout",
     "output_type": "stream",
     "text": [
      "Mean firing rate: 14.325\n",
      "Standard deviation: 5.129997563352248\n",
      "Normalized firing rates: [-0.35575066  0.13157901 -1.27193043  1.49610208]\n",
      "Weighted output:\n",
      "[[1.2 1.4]\n",
      " [2.6 3.6]]\n"
     ]
    }
   ],
   "source": [
    "import numpy as np\n",
    "\n",
    "# Creating an array\n",
    "firing_rates = np.array([12.5, 15.0, 7.8, 22.0])\n",
    "\n",
    "# Basic operations\n",
    "mean_firing_rate = np.mean(firing_rates)\n",
    "std_firing_rate = np.std(firing_rates)\n",
    "\n",
    "# Element-wise operation\n",
    "normalized_firing_rates = (firing_rates - mean_firing_rate) / std_firing_rate\n",
    "\n",
    "print(f\"Mean firing rate: {mean_firing_rate}\")\n",
    "print(f\"Standard deviation: {std_firing_rate}\")\n",
    "print(f\"Normalized firing rates: {normalized_firing_rates}\")\n",
    "\n",
    "# Matrix multiplication\n",
    "spike_counts = np.array([[1, 2], [3, 4]])\n",
    "weights = np.array([[0.2, 0.8], [0.5, 0.3]])\n",
    "\n",
    "output = np.dot(spike_counts, weights)\n",
    "print(f\"Weighted output:\\n{output}\")"
   ]
  },
  {
   "cell_type": "markdown",
   "id": "fed6ec24",
   "metadata": {},
   "source": [
    "---\n",
    "\n",
    "### 3. **Scikit-learn**\n",
    "   - **Overview**: Scikit-learn is a machine learning library that provides simple and efficient tools for data mining, data analysis, and building machine learning models.\n",
    "\n",
    "   - **Key Features**:\n",
    "     - **Wide Range of Algorithms**: Includes various supervised and unsupervised machine learning algorithms, such as regression, classification, clustering, and dimensionality reduction.\n",
    "     - **Supervised learning**: Algorithms such as SVM, decision trees, etc.\n",
    "     - **Unsupervised learning**: Algorithms such as PCA, clustering, etc.\n",
    "     - **Preprocessing Tools**: Offers utilities for data preprocessing, scaling, feature extraction, and model selection.\n",
    "     - **Model Evaluation**: Provides metrics for evaluating models and cross-validation techniques.\n",
    "\n",
    "   - **Applications**:\n",
    "     - Scikit-learn can be used to classify neural signals (e.g., distinguishing different brain states from EEG or fMRI data, predicting brain states, and decoding motor commands from neural activity.).\n",
    "     - It is also suitable for decoding neural representations of sensory or motor processes by training machine learning models on neural data.\n",
    "     - Dimensionality reduction techniques (like PCA) can be applied to reduce the complexity of neural data, which often has high dimensionality.\n",
    "\n",
    "**Sample Code:**"
   ]
  },
  {
   "cell_type": "code",
   "execution_count": 3,
   "id": "4b85b95a",
   "metadata": {},
   "outputs": [
    {
     "name": "stdout",
     "output_type": "stream",
     "text": [
      "Accuracy: 100.00%\n"
     ]
    }
   ],
   "source": [
    "from sklearn.datasets import load_iris\n",
    "from sklearn.model_selection import train_test_split\n",
    "from sklearn.ensemble import RandomForestClassifier\n",
    "from sklearn.metrics import accuracy_score\n",
    "\n",
    "# Load dataset\n",
    "data = load_iris()\n",
    "X = data.data\n",
    "y = data.target\n",
    "\n",
    "# Split into training and testing sets\n",
    "X_train, X_test, y_train, y_test = train_test_split(X, y, test_size=0.3, random_state=42)\n",
    "\n",
    "# Train a classifier\n",
    "clf = RandomForestClassifier(n_estimators=100)\n",
    "clf.fit(X_train, y_train)\n",
    "\n",
    "# Make predictions\n",
    "y_pred = clf.predict(X_test)\n",
    "\n",
    "# Evaluate the model\n",
    "accuracy = accuracy_score(y_test, y_pred)\n",
    "print(f\"Accuracy: {accuracy * 100:.2f}%\")"
   ]
  },
  {
   "cell_type": "markdown",
   "id": "5e5da47f",
   "metadata": {},
   "source": [
    "---\n",
    "\n",
    "### 4. **Matplotlib**\n",
    "   - **Overview**: Matplotlib is a plotting library for creating static, animated, and interactive visualizations.\n",
    "\n",
    "   - **Key Features**:\n",
    "     - **Versatile Plotting**: Enables the creation of a wide variety of plots such as line plots, scatter plots, histograms, and heatmaps.\n",
    "     - **Customization**: Highly customizable for producing publication-quality figures.\n",
    "     - **Interactive Visualizations**: Supports interactive features like zooming and panning, which can be useful in exploratory data analysis.\n",
    "\n",
    "   - **Applications**:\n",
    "     - Matplotlib is frequently used to visualize neural data, such as spike rasters, tuning curves, time-series plots of neural activity, brain imaging results, and correlation matrices.\n",
    "     - Scientists can also use it to create complex figures for publications, including brain activity maps, neural network schematics, and behavioral performance graphs.\n",
    "\n",
    "**Sample Code:**"
   ]
  },
  {
   "cell_type": "code",
   "execution_count": 4,
   "id": "2bfc25d8",
   "metadata": {},
   "outputs": [
    {
     "data": {
      "image/png": "[encoded data removed]",
      "text/plain": [
       "<Figure size 1000x600 with 1 Axes>"
      ]
     },
     "metadata": {},
     "output_type": "display_data"
    }
   ],
   "source": [
    "import matplotlib.pyplot as plt\n",
    "import numpy as np\n",
    "\n",
    "# Generate synthetic spike data\n",
    "time = np.linspace(0, 10, 1000)\n",
    "spike_rate = np.sin(time) + np.random.normal(0, 0.1, 1000)\n",
    "\n",
    "# Plot spike rate\n",
    "plt.figure(figsize=(10, 6))\n",
    "plt.plot(time, spike_rate, label=\"Spike Rate\")\n",
    "plt.title(\"Neural Spike Rate Over Time\")\n",
    "plt.xlabel(\"Time (s)\")\n",
    "plt.ylabel(\"Spike Rate (Hz)\")\n",
    "plt.legend()\n",
    "plt.show()"
   ]
  },
  {
   "cell_type": "markdown",
   "id": "aa404a95",
   "metadata": {},
   "source": [
    "---\n",
    "\n",
    "### 5. **TensorFlow**\n",
    "   - **Overview**: TensorFlow is an open-source machine learning framework developed by Google. It focuses on building and training deep learning models but also supports general numerical computation.\n",
    "\n",
    "   - **Key Features**:\n",
    "     - **Deep Learning Support**: Optimized for building and training deep neural networks (CNNs, RNNs, etc.).\n",
    "     - **GPU Acceleration**: Provides support for executing operations on GPUs, making it suitable for large-scale computations and training of complex models.\n",
    "     - **Tensor Operations**: Supports efficient manipulation of multi-dimensional arrays (tensors), similar to NumPy but optimized for deep learning tasks.\n",
    "     - **Computation Graph**: A static graph where operations are defined in advance (in TensorFlow 1.x).\n",
    "     - **Keras API**: High-level API within TensorFlow for building models easily.\n",
    "\n",
    "   - **Applications**:\n",
    "     - TensorFlow can be used to model and simulate complex brain processes using deep learning architectures like convolutional neural networks (CNNs) for image analysis (e.g., brain MRI data) or recurrent neural networks (RNNs) for modeling sequential data such as neural spike trains.\n",
    "     - TensorFlow can be used to create deep learning models for brain signal analysis, image classification (e.g., MRI scans), and even modeling neural circuits.\n",
    "     - It is also used for implementing biologically-inspired models of neural activity or studying representations in deep neural networks.\n",
    "\n",
    "**Sample Code:**"
   ]
  },
  {
   "cell_type": "code",
   "execution_count": 23,
   "id": "0a9fc4d2",
   "metadata": {},
   "outputs": [
    {
     "name": "stdout",
     "output_type": "stream",
     "text": [
      "Epoch 1/5\n",
      "4/4 [==============================] - 0s 1ms/step - loss: 0.2130\n",
      "Epoch 2/5\n",
      "4/4 [==============================] - 0s 749us/step - loss: 0.1258\n",
      "Epoch 3/5\n",
      "4/4 [==============================] - 0s 641us/step - loss: 0.1024\n",
      "Epoch 4/5\n",
      "4/4 [==============================] - 0s 832us/step - loss: 0.1086\n",
      "Epoch 5/5\n",
      "4/4 [==============================] - 0s 650us/step - loss: 0.1091\n",
      "1/1 [==============================] - 0s 23ms/step\n",
      "[[0.5597319 ]\n",
      " [0.64438015]\n",
      " [0.594756  ]\n",
      " [0.6925612 ]\n",
      " [0.5603395 ]]\n"
     ]
    }
   ],
   "source": [
    "# This code trains a simple neural network on synthetic data and prints predictions.\n",
    "import tensorflow as tf\n",
    "from tensorflow.keras import layers\n",
    "\n",
    "# Create a simple neural network\n",
    "model = tf.keras.Sequential([\n",
    "    layers.Dense(64, activation='relu', input_shape=(10,)),\n",
    "    layers.Dense(32, activation='relu'),\n",
    "    layers.Dense(1)\n",
    "])\n",
    "\n",
    "# Compile the model\n",
    "model.compile(optimizer='adam', loss='mean_squared_error')\n",
    "\n",
    "# Generate synthetic data\n",
    "import numpy as np\n",
    "X = np.random.rand(100, 10)\n",
    "y = np.random.rand(100, 1)\n",
    "\n",
    "# Train the model\n",
    "model.fit(X, y, epochs=5)\n",
    "\n",
    "# Make predictions\n",
    "predictions = model.predict(X[:5])\n",
    "print(predictions)"
   ]
  },
  {
   "cell_type": "markdown",
   "id": "1a10a8ef",
   "metadata": {},
   "source": [
    "---\n",
    "\n",
    "### 6. **Keras**\n",
    "   - **Overview**: Keras is an API built on top of TensorFlow that simplifies the process of building deep learning models. It is user-friendly and highly modular.\n",
    "\n",
    "   - **Key Features**:\n",
    "     - **Sequential Model**: A linear stack of layers.\n",
    "     - **Simple API**: Keras offers a high-level, intuitive interface for defining and training deep learning models.\n",
    "     - **Functional API**: For creating more complex models with branching or shared layers. \n",
    "     - **Modularity**: Layers, optimizers, and loss functions can be easily customized and combined to create sophisticated models.\n",
    "     - **Interoperability**: Compatible with TensorFlow as the backend, making it flexible and efficient.\n",
    "  \n",
    "   - **Applications**:\n",
    "     - Keras is often used by neuroscientists to build neural network models for classifying brain signals, decoding motor movements from neural data, or simulating cortical circuits.\n",
    "     - It can also be used to create biologically plausible models of neural systems, such as spiking neural networks, by leveraging custom layers and loss functions.\n",
    "\n",
    "**Sample Code**:"
   ]
  },
  {
   "cell_type": "code",
   "execution_count": 17,
   "id": "83efe700",
   "metadata": {},
   "outputs": [
    {
     "name": "stdout",
     "output_type": "stream",
     "text": [
      "Epoch 1/3\n",
      "4/4 [==============================] - 0s 1ms/step - loss: 0.7076\n",
      "Epoch 2/3\n",
      "4/4 [==============================] - 0s 664us/step - loss: 0.6851\n",
      "Epoch 3/3\n",
      "4/4 [==============================] - 0s 619us/step - loss: 0.6793\n"
     ]
    },
    {
     "data": {
      "text/plain": [
       "<keras.src.callbacks.History at 0x300d4c350>"
      ]
     },
     "execution_count": 17,
     "metadata": {},
     "output_type": "execute_result"
    }
   ],
   "source": [
    "from tensorflow.keras import layers, models\n",
    "\n",
    "# Build a simple sequential model\n",
    "model = models.Sequential([\n",
    "    layers.Dense(32, activation='relu', input_shape=(100,)),\n",
    "    layers.Dense(64, activation='relu'),\n",
    "    layers.Dense(1, activation='sigmoid')\n",
    "])\n",
    "\n",
    "# Compile and train the model\n",
    "model.compile(optimizer='adam', loss='binary_crossentropy')\n",
    "X = np.random.rand(100, 100)\n",
    "y = np.random.randint(2, size=(100, 1))\n",
    "\n",
    "model.fit(X, y, epochs=3)\n"
   ]
  },
  {
   "cell_type": "markdown",
   "id": "a3f80e61",
   "metadata": {},
   "source": [
    "---\n",
    "\n",
    "### 7. **PyTorch**\n",
    "   - **Overview**: PyTorch is an open-source deep learning framework developed by Facebook's AI Research lab. It is known for its flexibility and dynamic computational graph, which makes it a favorite for research.\n",
    "   \n",
    "   - **Key Features**:\n",
    "     - **Dynamic Graphs**: PyTorch uses dynamic computation graphs, allowing for more flexible model definition and debugging. This is particularly useful for research, where models often need to be prototyped and modified on the fly.\n",
    "     - **Deep Learning Support**: Similar to TensorFlow, PyTorch supports the implementation of deep neural networks with GPU acceleration.\n",
    "     - **Tensor Operations**: PyTorch offers extensive support for tensor computation, making it a suitable alternative to NumPy in many numerical tasks.\n",
    "     - **Autograd**: Automatic differentiation for training neural networks.\n",
    "   \n",
    "   - **Applications**:\n",
    "     - PyTorch is widely used for building and training deep neural networks, often employed in projects that require flexibility and rapid experimentation, such as modeling learning and memory processes in the brain.\n",
    "     - It is also useful in implementing reinforcement learning models to study reward-based learning and decision-making in biological agents.\n",
    "     - PyTorch’s dynamic nature allows for more exploratory approaches to developing and simulating complex models of neural circuits.\n",
    "\n",
    "**Sample Code**:"
   ]
  },
  {
   "cell_type": "code",
   "execution_count": 22,
   "id": "306456ee",
   "metadata": {},
   "outputs": [
    {
     "name": "stdout",
     "output_type": "stream",
     "text": [
      "Epoch [1/5], Loss: 0.08185775578022003\n",
      "Epoch [2/5], Loss: 0.08165649324655533\n",
      "Epoch [3/5], Loss: 0.08146128058433533\n",
      "Epoch [4/5], Loss: 0.08126553893089294\n",
      "Epoch [5/5], Loss: 0.08109436929225922\n"
     ]
    }
   ],
   "source": [
    "# This code trains a neural network with synthetic data and prints the loss at each epoch.\n",
    "import torch\n",
    "import torch.nn as nn\n",
    "import torch.optim as optim\n",
    "\n",
    "# Define a simple model\n",
    "class NeuralNet(nn.Module):\n",
    "    def __init__(self):\n",
    "        super(NeuralNet, self).__init__()\n",
    "        self.fc1 = nn.Linear(10, 64)\n",
    "        self.fc2 = nn.Linear(64, 32)\n",
    "        self.fc3 = nn.Linear(32, 1)\n",
    "\n",
    "    def forward(self, x):\n",
    "        x = torch.relu(self.fc1(x))\n",
    "        x = torch.relu(self.fc2(x))\n",
    "        x = torch.sigmoid(self.fc3(x))\n",
    "        return x\n",
    "\n",
    "# Instantiate the model\n",
    "model = NeuralNet()\n",
    "\n",
    "# Loss and optimizer\n",
    "criterion = nn.MSELoss()\n",
    "optimizer = optim.Adam(model.parameters(), lr=0.001)\n",
    "\n",
    "# Sample data\n",
    "X = torch.rand(100, 10)\n",
    "y = torch.rand(100, 1)\n",
    "\n",
    "# Train the model\n",
    "for epoch in range(5):\n",
    "    optimizer.zero_grad()\n",
    "    outputs = model(X)\n",
    "    loss = criterion(outputs, y)\n",
    "    loss.backward()\n",
    "    optimizer.step()\n",
    "    print(f\"Epoch [{epoch+1}/5], Loss: {loss.item()}\")"
   ]
  }
 ],
 "metadata": {
  "kernelspec": {
   "display_name": "Python 3",
   "language": "python",
   "name": "python3"
  },
  "language_info": {
   "codemirror_mode": {
    "name": "ipython",
    "version": 3
   },
   "file_extension": ".py",
   "mimetype": "text/x-python",
   "name": "python",
   "nbconvert_exporter": "python",
   "pygments_lexer": "ipython3",
   "version": "3.11.1"
  }
 },
 "nbformat": 4,
 "nbformat_minor": 5
}
