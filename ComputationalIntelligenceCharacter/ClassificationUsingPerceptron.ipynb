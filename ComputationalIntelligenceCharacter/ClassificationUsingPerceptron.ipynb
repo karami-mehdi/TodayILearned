{
 "cells": [
  {
   "cell_type": "markdown",
   "metadata": {},
   "source": [
    "# Character Classification Using Perceptron (Multiclass: A, B, C)"
   ]
  },
  {
   "cell_type": "code",
   "execution_count": 1,
   "metadata": {},
   "outputs": [],
   "source": [
    "import numpy as np"
   ]
  },
  {
   "cell_type": "code",
   "execution_count": 2,
   "metadata": {},
   "outputs": [],
   "source": [
    "A_train = [\n",
    "    [0,1,0, 1,0,1, 1,1,1],\n",
    "    [0,1,0, 1,1,1, 1,0,1],\n",
    "    [0,1,0, 1,0,1, 1,1,0],\n",
    "    [0,1,0, 1,1,0, 1,1,1],\n",
    "    [0,1,0, 0,1,1, 1,1,1],\n",
    "    [1,1,0, 1,0,1, 1,1,1],\n",
    "]\n",
    "\n",
    "B_train = [\n",
    "    [1,1,0, 1,0,1, 1,1,0],\n",
    "    [1,1,1, 1,0,1, 1,1,0],\n",
    "    [1,1,0, 1,0,1, 1,1,1],\n",
    "    [1,1,1, 1,1,0, 1,1,0],\n",
    "    [1,1,0, 1,1,1, 1,1,0],\n",
    "    [1,1,1, 1,0,1, 1,0,1],\n",
    "]"
   ]
  },
  {
   "cell_type": "code",
   "execution_count": 3,
   "metadata": {},
   "outputs": [],
   "source": [
    "C_train = [\n",
    "    [0,1,1, 1,0,0, 0,1,1],\n",
    "    [1,1,1, 1,0,0, 1,1,1],\n",
    "    [0,1,0, 1,0,0, 0,1,1],\n",
    "    [0,1,1, 1,1,0, 0,1,1],\n",
    "    [1,1,1, 1,0,0, 0,1,0],\n",
    "    [1,1,1, 1,0,0, 1,1,0],\n",
    "]"
   ]
  },
  {
   "cell_type": "code",
   "execution_count": 4,
   "metadata": {},
   "outputs": [
    {
     "name": "stdout",
     "output_type": "stream",
     "text": [
      "Train Data:\n",
      " [[0 1 0 1 0 1 1 1 1]\n",
      " [0 1 0 1 1 1 1 0 1]\n",
      " [0 1 0 1 0 1 1 1 0]\n",
      " [0 1 0 1 1 0 1 1 1]\n",
      " [0 1 0 0 1 1 1 1 1]\n",
      " [1 1 0 1 0 1 1 1 1]\n",
      " [1 1 0 1 0 1 1 1 0]\n",
      " [1 1 1 1 0 1 1 1 0]\n",
      " [1 1 0 1 0 1 1 1 1]\n",
      " [1 1 1 1 1 0 1 1 0]\n",
      " [1 1 0 1 1 1 1 1 0]\n",
      " [1 1 1 1 0 1 1 0 1]\n",
      " [0 1 1 1 0 0 0 1 1]\n",
      " [1 1 1 1 0 0 1 1 1]\n",
      " [0 1 0 1 0 0 0 1 1]\n",
      " [0 1 1 1 1 0 0 1 1]\n",
      " [1 1 1 1 0 0 0 1 0]\n",
      " [1 1 1 1 0 0 1 1 0]]\n",
      "\n",
      "Labels:\n",
      " [[1 0 0]\n",
      " [1 0 0]\n",
      " [1 0 0]\n",
      " [1 0 0]\n",
      " [1 0 0]\n",
      " [1 0 0]\n",
      " [0 1 0]\n",
      " [0 1 0]\n",
      " [0 1 0]\n",
      " [0 1 0]\n",
      " [0 1 0]\n",
      " [0 1 0]\n",
      " [0 0 1]\n",
      " [0 0 1]\n",
      " [0 0 1]\n",
      " [0 0 1]\n",
      " [0 0 1]\n",
      " [0 0 1]]\n"
     ]
    }
   ],
   "source": [
    "X_train = np.array(A_train + B_train + C_train)\n",
    "print('Train Data:\\n', X_train)\n",
    "\n",
    "y_train = np.array([[1,0,0]]*len(A_train) + [[0,1,0]]*len(B_train) + [[0,0,1]]*len(C_train))\n",
    "print('\\nLabels:\\n', y_train)"
   ]
  },
  {
   "cell_type": "code",
   "execution_count": 5,
   "metadata": {},
   "outputs": [
    {
     "name": "stdout",
     "output_type": "stream",
     "text": [
      "Test Data:\n",
      " [[0 1 0 1 0 1 1 0 1]\n",
      " [1 1 0 1 1 1 1 1 0]\n",
      " [0 1 1 1 0 0 0 1 1]]\n",
      "\n",
      "Test Labels:\n",
      " [[1 0 0]\n",
      " [0 1 0]\n",
      " [0 0 1]]\n"
     ]
    }
   ],
   "source": [
    "A_test = [0,1,0, 1,0,1, 1,0,1]\n",
    "B_test = [1,1,0, 1,1,1, 1,1,0]\n",
    "C_test = [0,1,1, 1,0,0, 0,1,1]\n",
    "\n",
    "X_test = np.array([A_test, B_test, C_test])\n",
    "print('Test Data:\\n', X_test)\n",
    "\n",
    "y_test = np.array([[1,0,0], [0,1,0], [0,0,1]])\n",
    "print('\\nTest Labels:\\n', y_test)"
   ]
  },
  {
   "cell_type": "code",
   "execution_count": 6,
   "metadata": {},
   "outputs": [],
   "source": [
    "def sigmoid(x):\n",
    "    return 1 / (1 + np.exp(-x))"
   ]
  },
  {
   "cell_type": "code",
   "execution_count": 7,
   "metadata": {},
   "outputs": [],
   "source": [
    "def sigmoid_derivative(x):\n",
    "    return x * (1 - x)"
   ]
  },
  {
   "cell_type": "code",
   "execution_count": 8,
   "metadata": {},
   "outputs": [],
   "source": [
    "def softmax(x):\n",
    "    e_x = np.exp(x - np.max(x))\n",
    "    return e_x / np.sum(e_x, axis=1, keepdims=True)"
   ]
  },
  {
   "cell_type": "code",
   "execution_count": 9,
   "metadata": {},
   "outputs": [],
   "source": [
    "def cross_entropy(predictions, labels):\n",
    "    epsilon = 1e-12\n",
    "    predictions = np.clip(predictions, epsilon, 1. - epsilon)\n",
    "    return -np.mean(np.sum(labels * np.log(predictions), axis=1))"
   ]
  },
  {
   "cell_type": "code",
   "execution_count": 10,
   "metadata": {},
   "outputs": [],
   "source": [
    "input_size = 9\n",
    "hidden_size = 6\n",
    "output_size = 3\n",
    "lr = 0.1\n",
    "epochs = 1000\n",
    "\n",
    "W1 = np.random.randn(input_size, hidden_size)\n",
    "b1 = np.zeros((1, hidden_size))\n",
    "W2 = np.random.randn(hidden_size, output_size)\n",
    "b2 = np.zeros((1, output_size))"
   ]
  },
  {
   "cell_type": "code",
   "execution_count": 11,
   "metadata": {},
   "outputs": [
    {
     "name": "stdout",
     "output_type": "stream",
     "text": [
      "Epoch 1 | Loss: 1.8718\n",
      "Epoch 50 | Loss: 0.1917\n",
      "Epoch 100 | Loss: 0.1171\n",
      "Epoch 150 | Loss: 0.1000\n",
      "Epoch 200 | Loss: 0.0929\n",
      "Epoch 250 | Loss: 0.0890\n",
      "Epoch 300 | Loss: 0.0916\n",
      "Epoch 350 | Loss: 0.0874\n",
      "Epoch 400 | Loss: 0.0859\n",
      "Epoch 450 | Loss: 0.0847\n",
      "Epoch 500 | Loss: 0.0838\n",
      "Epoch 550 | Loss: 0.0831\n",
      "Epoch 600 | Loss: 0.0825\n",
      "Epoch 650 | Loss: 0.0820\n",
      "Epoch 700 | Loss: 0.0816\n",
      "Epoch 750 | Loss: 0.0812\n",
      "Epoch 800 | Loss: 0.0809\n",
      "Epoch 850 | Loss: 0.0807\n",
      "Epoch 900 | Loss: 0.0804\n",
      "Epoch 950 | Loss: 0.0802\n",
      "Epoch 1000 | Loss: 0.0800\n"
     ]
    }
   ],
   "source": [
    "for epoch in range(epochs):\n",
    "    # Forward pass\n",
    "    z1 = np.dot(X_train, W1) + b1\n",
    "    a1 = sigmoid(z1)\n",
    "    z2 = np.dot(a1, W2) + b2\n",
    "    y_pred = softmax(z2)\n",
    "\n",
    "    loss = cross_entropy(y_pred, y_train)\n",
    "\n",
    "    # Backpropagation\n",
    "    dL_dz2 = y_pred - y_train\n",
    "    dL_dW2 = np.dot(a1.T, dL_dz2)\n",
    "    dL_db2 = np.sum(dL_dz2, axis=0, keepdims=True)\n",
    "\n",
    "    dL_da1 = np.dot(dL_dz2, W2.T)\n",
    "    dL_dz1 = dL_da1 * sigmoid_derivative(a1)\n",
    "    dL_dW1 = np.dot(X_train.T, dL_dz1)\n",
    "    dL_db1 = np.sum(dL_dz1, axis=0, keepdims=True)\n",
    "\n",
    "    # Update Weights\n",
    "    W2 -= lr * dL_dW2\n",
    "    b2 -= lr * dL_db2\n",
    "    W1 -= lr * dL_dW1\n",
    "    b1 -= lr * dL_db1\n",
    "\n",
    "    if (epoch+1) % 50 == 0 or epoch == 0:\n",
    "        print(f\"Epoch {epoch+1} | Loss: {loss:.4f}\")"
   ]
  },
  {
   "cell_type": "code",
   "execution_count": 12,
   "metadata": {},
   "outputs": [
    {
     "name": "stdout",
     "output_type": "stream",
     "text": [
      "\n",
      "Test results\n",
      "Predicted Label: 0, True Label: 0 - ✅ True\n",
      "Predicted Label: 1, True Label: 1 - ✅ True\n",
      "Predicted Label: 2, True Label: 2 - ✅ True\n",
      "\n",
      "Accuracy: 100.00%\n"
     ]
    }
   ],
   "source": [
    "# Prediction on Test Data\n",
    "z1_test = np.dot(X_test, W1) + b1\n",
    "a1_test = sigmoid(z1_test)\n",
    "z2_test = np.dot(a1_test, W2) + b2\n",
    "y_pred_test = softmax(z2_test)\n",
    "\n",
    "predicted_classes = np.argmax(y_pred_test, axis=1)\n",
    "true_classes = np.argmax(y_test, axis=1)\n",
    "\n",
    "print(\"\\nTest results\")\n",
    "for i in range(len(X_test)):\n",
    "    print(f\"Predicted Label: {predicted_classes[i]}, True Label: {true_classes[i]} - {'✅ True' if predicted_classes[i]==true_classes[i] else '❌ False'}\")\n",
    "\n",
    "accuracy = np.mean(predicted_classes == true_classes)\n",
    "print(f\"\\nAccuracy: {accuracy * 100:.2f}%\")"
   ]
  }
 ],
 "metadata": {
  "kernelspec": {
   "display_name": "Python 3",
   "language": "python",
   "name": "python3"
  },
  "language_info": {
   "codemirror_mode": {
    "name": "ipython",
    "version": 3
   },
   "file_extension": ".py",
   "mimetype": "text/x-python",
   "name": "python",
   "nbconvert_exporter": "python",
   "pygments_lexer": "ipython3",
   "version": "3.12.9"
  }
 },
 "nbformat": 4,
 "nbformat_minor": 2
}
